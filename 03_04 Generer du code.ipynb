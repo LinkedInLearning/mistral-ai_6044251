{
 "cells": [
  {
   "cell_type": "markdown",
   "metadata": {
    "id": "1qVuWZW-t6rQ"
   },
   "source": [
    "<h2 style=\"text-align: center; background-color: #4d648d; font-family:Arial; color: white; padding: 13px; line-height: 1; border-radius:10px\"> 03_04 Générer du code</h2>"
   ]
  },
  {
   "cell_type": "code",
   "execution_count": null,
   "metadata": {
    "colab": {
     "base_uri": "https://localhost:8080/"
    },
    "executionInfo": {
     "elapsed": 4170,
     "status": "ok",
     "timestamp": 1744830769189,
     "user": {
      "displayName": "Alison Patou",
      "userId": "17966795866743930044"
     },
     "user_tz": -120
    },
    "id": "BtvzImQg_iZ5",
    "outputId": "daa8ceb4-638b-411a-bc80-aef411f505a4"
   },
   "outputs": [],
   "source": [
    "pip install --upgrade mistralai\n"
   ]
  },
  {
   "cell_type": "code",
   "execution_count": null,
   "metadata": {
    "colab": {
     "base_uri": "https://localhost:8080/"
    },
    "executionInfo": {
     "elapsed": 4194,
     "status": "ok",
     "timestamp": 1744831165408,
     "user": {
      "displayName": "Alison Patou",
      "userId": "17966795866743930044"
     },
     "user_tz": -120
    },
    "id": "PGVd05HRq190",
    "outputId": "271c2854-1103-4afb-b2c7-8c7ac7e2aac6"
   },
   "outputs": [],
   "source": [
    "from mistralai import Mistral\n",
    "\n",
    "client = Mistral(api_key=\"XXXXXXXXXXXXXXXXXXXXXXx\")\n",
    "\n",
    "response = client.chat.complete(\n",
    "    model=\"codestral-2501\",\n",
    "    messages=[\n",
    "        {\"role\": \"user\", \"content\": \"Écris une fonction Python qui trie une liste avec l'algorithme du tri à bulles.\"}\n",
    "    ]\n",
    ")\n",
    "\n",
    "print(response.choices[0].message.content)"
   ]
  }
 ],
 "metadata": {
  "accelerator": "GPU",
  "colab": {
   "gpuType": "T4",
   "provenance": []
  },
  "kernelspec": {
   "display_name": "Python 3",
   "language": "python",
   "name": "python3"
  },
  "language_info": {
   "codemirror_mode": {
    "name": "ipython",
    "version": 3
   },
   "file_extension": ".py",
   "mimetype": "text/x-python",
   "name": "python",
   "nbconvert_exporter": "python",
   "pygments_lexer": "ipython3",
   "version": "3.6.4"
  }
 },
 "nbformat": 4,
 "nbformat_minor": 1
}
