{
 "cells": [
  {
   "cell_type": "markdown",
   "metadata": {
    "id": "LrAzwgaBqhh7"
   },
   "source": [
    "<h2 style=\"text-align: center; background-color: #4d648d; font-family:Arial; color: white; padding: 13px; line-height: 1; border-radius:10px\"> 02_01 Installation et configuration </h2>"
   ]
  },
  {
   "cell_type": "code",
   "execution_count": null,
   "metadata": {
    "colab": {
     "base_uri": "https://localhost:8080/"
    },
    "executionInfo": {
     "elapsed": 4128,
     "status": "ok",
     "timestamp": 1744657470621,
     "user": {
      "displayName": "Alison Patou",
      "userId": "17966795866743930044"
     },
     "user_tz": -120
    },
    "id": "G_BCFCQ7qhh-",
    "outputId": "77aa1a7f-b5b9-41bd-faea-6069e6f05982"
   },
   "outputs": [],
   "source": [
    "# Étape 1 : Installation du package mistralai\n",
    "!pip install mistralai"
   ]
  },
  {
   "cell_type": "markdown",
   "metadata": {
    "id": "48u2zL8Oqhh_"
   },
   "source": [
    "# Execution via API"
   ]
  },
  {
   "cell_type": "code",
   "execution_count": null,
   "metadata": {
    "executionInfo": {
     "elapsed": 10,
     "status": "ok",
     "timestamp": 1744657909148,
     "user": {
      "displayName": "Alison Patou",
      "userId": "17966795866743930044"
     },
     "user_tz": -120
    },
    "id": "3I82bN7Rqhh_"
   },
   "outputs": [],
   "source": [
    "# Étape 2 : Importer les bibliothèques nécessaires\n",
    "from mistralai import Mistral\n",
    "import os"
   ]
  },
  {
   "cell_type": "code",
   "execution_count": null,
   "metadata": {
    "executionInfo": {
     "elapsed": 5,
     "status": "ok",
     "timestamp": 1744658335829,
     "user": {
      "displayName": "Alison Patou",
      "userId": "17966795866743930044"
     },
     "user_tz": -120
    },
    "id": "dy7E5GNVqhiA"
   },
   "outputs": [],
   "source": [
    "# Étape 3 : Définir votre clé API\n",
    "os.environ[\"MISTRAL_API_KEY\"] = \"XXXXXXXXXXXXXXXXXXXXXXx\"\n",
    "api_key = os.environ[\"MISTRAL_API_KEY\"]"
   ]
  },
  {
   "cell_type": "code",
   "execution_count": null,
   "metadata": {
    "executionInfo": {
     "elapsed": 823,
     "status": "ok",
     "timestamp": 1744657945272,
     "user": {
      "displayName": "Alison Patou",
      "userId": "17966795866743930044"
     },
     "user_tz": -120
    },
    "id": "1zI8ibHjqhiA"
   },
   "outputs": [],
   "source": [
    "# Étape 4 : Initialiser le client Mistral\n",
    "client = Mistral(api_key=api_key)"
   ]
  },
  {
   "cell_type": "markdown",
   "metadata": {
    "id": "1gbmpkNlqhiA"
   },
   "source": [
    "# Execution en local avec HuggingFace"
   ]
  },
  {
   "cell_type": "code",
   "execution_count": null,
   "metadata": {
    "colab": {
     "base_uri": "https://localhost:8080/"
    },
    "executionInfo": {
     "elapsed": 146324,
     "status": "ok",
     "timestamp": 1744658140994,
     "user": {
      "displayName": "Alison Patou",
      "userId": "17966795866743930044"
     },
     "user_tz": -120
    },
    "id": "u8B9RCuFqhiB",
    "outputId": "7107b7d6-db17-4d3f-b35a-6bcec48f1f19"
   },
   "outputs": [],
   "source": [
    "# Étape 1 : Installer les bibliothèques nécessaires\n",
    "!pip install transformers accelerate torch"
   ]
  },
  {
   "cell_type": "code",
   "execution_count": null,
   "metadata": {
    "executionInfo": {
     "elapsed": 17217,
     "status": "ok",
     "timestamp": 1744658158213,
     "user": {
      "displayName": "Alison Patou",
      "userId": "17966795866743930044"
     },
     "user_tz": -120
    },
    "id": "F_21d97EqhiB"
   },
   "outputs": [],
   "source": [
    "# Étape 2 : Importer les modules\n",
    "from transformers import AutoTokenizer, AutoModelForCausalLM\n",
    "import torch"
   ]
  }
 ],
 "metadata": {
  "colab": {
   "provenance": []
  },
  "kernelspec": {
   "display_name": "Python 3",
   "language": "python",
   "name": "python3"
  },
  "language_info": {
   "codemirror_mode": {
    "name": "ipython",
    "version": 3
   },
   "file_extension": ".py",
   "mimetype": "text/x-python",
   "name": "python",
   "nbconvert_exporter": "python",
   "pygments_lexer": "ipython3",
   "version": "3.6.4"
  }
 },
 "nbformat": 4,
 "nbformat_minor": 1
}
